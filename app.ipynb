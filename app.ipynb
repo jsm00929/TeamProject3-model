{
  "nbformat": 4,
  "nbformat_minor": 0,
  "metadata": {
    "colab": {
      "provenance": []
    },
    "kernelspec": {
      "name": "python3",
      "display_name": "Python 3"
    },
    "language_info": {
      "name": "python"
    }
  },
  "cells": [
    {
      "cell_type": "markdown",
      "source": [
        "# **Sentiment Analysis Project**"
      ],
      "metadata": {
        "id": "Jfm1TzwRx-U0"
      }
    },
    {
      "cell_type": "markdown",
      "source": [
        "## 개요\n",
        "- NLP(Natural Language Processing)\n",
        "- RNN or LSTM or GRU\n",
        "- TMDB 영화 리뷰 dataset을 학습데이터로 사용\n",
        "- 각 리뷰를 별점을 기준으로 positive, negative, neutural로 분류 \n",
        "- 특정 영화에 대한 리뷰를 분석하여 해당 영화에 대한 관람객의 평가를 도출 \n",
        "<br>(긍정: x %, 중립: y%, 부정: z%)\n",
        "- 새로운 리뷰가 작성되었을 때 종합 평가에 즉각적으로 반영"
      ],
      "metadata": {
        "id": "zK47th5Gx9Lf"
      }
    },
    {
      "cell_type": "markdown",
      "source": [
        "## 활용\n",
        "- 별점이 없는 리뷰에 대해서도 예상 별점을 책정할 수 있음 \n",
        "- 별점과 리뷰가 서로 상이한 리뷰에 대해서 필터링을 통해 비교적 더 정확한 평가를 제공할 수 있음\n",
        "- 영화에 대한 리뷰를 통해 개별 추천 시스템을 고도화 할 수 있음   "
      ],
      "metadata": {
        "id": "6vi_j1e805Be"
      }
    },
    {
      "cell_type": "code",
      "execution_count": null,
      "metadata": {
        "id": "J6j_RApPxjVO"
      },
      "outputs": [],
      "source": []
    }
  ]
}